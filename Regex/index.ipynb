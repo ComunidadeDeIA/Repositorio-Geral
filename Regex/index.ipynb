{
 "cells": [
  {
   "cell_type": "markdown",
   "id": "cb8741a1",
   "metadata": {},
   "source": [
    "# **Regex** - Expressões regulares\n",
    "* São usadas para encontrar padrões num conjunto de textos;\n",
    "* É útil para extrair informações relevantes para quem quiser trabalhar com dados;\n",
    "* Utiliza uma sequência de caracteres para encontrar padrões nos textos;\n",
    "* Pode ser usada também para manipular strings."
   ]
  },
  {
   "cell_type": "code",
   "execution_count": null,
   "id": "ef8cac6e",
   "metadata": {},
   "outputs": [],
   "source": [
    "# importantando a biblioteca\n",
    "import re\n",
    "\n",
    "# O texto\n",
    "text = [\"\"\"Ao invés de usar objetos Python, também podemos executar consultas SQL usando String.\n",
    "Basta adicionar o argumento como uma string à função `execute` e visualizar o resultado usando `fetchall`. \"\"\"]\n",
    "\n",
    "text = text[0] # Para não passar a extrair toda a hora ^_^"
   ]
  },
  {
   "cell_type": "markdown",
   "id": "22176174",
   "metadata": {},
   "source": [
    "# **Especificadores (define o que você quer):**"
   ]
  },
  {
   "cell_type": "code",
   "execution_count": 4,
   "id": "04f8f93b",
   "metadata": {},
   "outputs": [
    {
     "name": "stdout",
     "output_type": "stream",
     "text": [
      "['agora']\n",
      "['suco', 'sujo', 'subo']\n"
     ]
    },
    {
     "data": {
      "text/plain": [
       "['.']"
      ]
     },
     "execution_count": 4,
     "metadata": {},
     "output_type": "execute_result"
    }
   ],
   "source": [
    "# . - Entende qualquer coisa(letra) excepto uma nova linha(\\n)\n",
    "# \\. - Para buscar o caracter \".\"\n",
    "texto = 'agora'\n",
    "padrao = r'a...a' # encontre qualquer texto que tiver o padrao a...a\n",
    "resultado = re.findall(padrao, texto)\n",
    "print(resultado) # ['agora']\n",
    "\n",
    "# exemplo2\n",
    "texto2 = ''' \n",
    "    suco\n",
    "    sujo\n",
    "    su\\no\n",
    "    subo\n",
    "'''\n",
    "\n",
    "padrao = r's..o'\n",
    "find_text= re.findall(padrao, texto2)\n",
    "print(find_text)\n",
    "\n",
    "texto  = 'Entendo.'\n",
    "padrao =  r'\\.' # encontre o '.' no texto\n",
    "find = re.findall(padrao, texto)# acha um padrão no texto\n",
    "find #  ['.']\n"
   ]
  },
  {
   "cell_type": "code",
   "execution_count": 6,
   "id": "dbf8aac9",
   "metadata": {},
   "outputs": [
    {
     "name": "stdout",
     "output_type": "stream",
     "text": [
      "['a']\n",
      "['é', 'u', 's', 'e', 'n', 't', 'i', 'e', 'n', 't', 'q', 'u', 'e', 'd', 'e', 'v', 'e', 's', 'd', 'e', 'e', 'c', 'e', 'b', 'e']\n"
     ]
    }
   ],
   "source": [
    "# ^ vai sempre olhar para  o início da string. Irá testar o inicio da string\n",
    "#[^] - Irá considerar todos os caracteres excepto o indicado, ou seja, considere qualquer caracter menos a que digitarei\n",
    "\n",
    "texto = 'amor é um sentimento que devemos dar e receber'\n",
    "p1 = r'^a'\n",
    "check = re.findall(p1,texto)\n",
    "print(check)\n",
    " \n",
    "p2 = r'[^a, m, o, r]' # Considere tudo menos a,m,o,r letra a,m,o,r\n",
    "check = re.findall(p2,texto)\n",
    "print(check)\n"
   ]
  },
  {
   "cell_type": "code",
   "execution_count": 4,
   "id": "bea57d2a",
   "metadata": {},
   "outputs": [
    {
     "name": "stdout",
     "output_type": "stream",
     "text": [
      "['2', '0', '2', '5']\n",
      "['b', 'o', 'm', 'd', 'i', 'a']\n"
     ]
    }
   ],
   "source": [
    "#\\d - Qualquer caracter que seja um algarismo de 0 a 9 ()\n",
    "#\\D - Qualquer caracter que não seja um algarismo de 0 a 9\n",
    "\n",
    "texto = 'bomdia2025'\n",
    "padrao1 = r'\\d'\n",
    "find = re.findall(padrao1, texto)\n",
    "print(find)\n",
    "\n",
    "padrao2 = r'\\D'\n",
    "find = re.findall(padrao2, texto)\n",
    "print(find)"
   ]
  },
  {
   "cell_type": "code",
   "execution_count": 5,
   "id": "67a3d062",
   "metadata": {},
   "outputs": [
    {
     "name": "stdout",
     "output_type": "stream",
     "text": [
      "['\\n', '\\n', ' ', ' ', '\\n', '\\n']\n",
      "['b', 'o', 'm', 'd', 'i', 'a', '2', '0', '2', '5']\n"
     ]
    }
   ],
   "source": [
    "#\\s - Qualquer caracter que seja vazio, ou seja, de espaço em branco ou \\n\n",
    "#\\S - Qualquer caracter que não seja vazio\n",
    "\n",
    "texto = '''\n",
    "\n",
    "bom dia 2025\n",
    "\n",
    "'''\n",
    "\n",
    "padrao = r'\\s'\n",
    "find = re.findall(padrao, texto)\n",
    "print(find)\n",
    "\n",
    "padrao2 = r'\\S'\n",
    "find = re.findall(padrao2, texto)\n",
    "print(find)"
   ]
  },
  {
   "cell_type": "code",
   "execution_count": 6,
   "id": "7c75e9aa",
   "metadata": {},
   "outputs": [
    {
     "name": "stdout",
     "output_type": "stream",
     "text": [
      "['j', 'e', 'o', 'v', 'a', 'n', 'i', 'j', 'p', '9', '7', '2', 'g', 'm', 'a', 'i', 'l', 'c', 'o', 'm']\n",
      "['\\n', '@', '.', ':', ' ', '\\n', '\\n']\n"
     ]
    }
   ],
   "source": [
    "# \\w- Qualquer caracter que seja alfanumérico\n",
    "# \\W- Qualquer caracter que não seja alfanumérico\n",
    "\n",
    "texto = '''\n",
    "jeovanijp972@gmail.com: \n",
    "\n",
    "'''\n",
    "padrao = r'\\w'\n",
    "find = re.findall(padrao, texto)\n",
    "print(find)\n",
    " \n",
    "padrao_ = r'\\W'\n",
    "find = re.findall(padrao_, texto)\n",
    "print(find)"
   ]
  },
  {
   "cell_type": "markdown",
   "id": "a23b241b",
   "metadata": {},
   "source": [
    "# **Método de checagem**:"
   ]
  },
  {
   "cell_type": "code",
   "execution_count": 7,
   "id": "3bd61956",
   "metadata": {},
   "outputs": [
    {
     "name": "stdout",
     "output_type": "stream",
     "text": [
      "['v']\n",
      "<re.Match object; span=(0, 2), match='av'>\n",
      "<re.Match object; span=(3, 6), match='ino'>\n",
      "<re.Match object; span=(2, 6), match='lino'>\n"
     ]
    }
   ],
   "source": [
    "# findall()\n",
    "# match()\n",
    "#search()\n",
    "#finditer()\n",
    "\n",
    "# ----------------------------------- findall() -----------------------------------\n",
    "''' \n",
    "re.findall(padrao, texto) - Retorna todas as ocorrências do padrão na string, como uma lista.\n",
    "Usar quando: Você quer coletar todos os valores que casam com um padrão.\n",
    "'''\n",
    "\n",
    "# ex:\n",
    "texto = 'avlino'\n",
    "padrao = r'v'\n",
    "encontrar = re.findall(padrao, texto)\n",
    "print(encontrar)\n",
    "\n",
    "# ----------------------------------- match() -----------------------------------\n",
    "'''re.match(padrao, texto) - Verifica se o padrão (regex) casa no início da string.\n",
    "Usar quando: Você quer verificar se uma string começa com determinado padrão.'''\n",
    "\n",
    "corresponde = re.match(r'av', texto)\n",
    "print(corresponde) # <re.Match object; span=(0, 2), match='av'>\n",
    "#print(texto[0:2] )# vai pegar caracteres de 0 a 1 excluino o 2\n",
    "\n",
    "# ----------------------------------- search() -----------------------------------\n",
    "'''\n",
    "re.search(padrao, texto) - procura o primeiro lugar onde o padrão ocorre na string.\n",
    "Usar quando: Você quer saber se e onde um padrão aparece na string (não precisa ser no início).\n",
    "'''\n",
    "\n",
    "padrao = r'ino'\n",
    "procuar = re.search(padrao, texto)\n",
    "print(procuar) \n",
    "# texto[2:6] # lino\n",
    "\n",
    "#obs: A diferença entre o match e o search é que o match só procura no início da string, já o serach pode ser em qualquer lugar\n",
    "\n",
    "# ----------------------------------- finditer() -----------------------------------\n",
    "'''\n",
    "re.finditer(padrao, texto) - Como findall, mas retorna um iterador com objetos Match, permitindo acessar posição e valor de cada ocorrência.\n",
    "Usar quando: Você precisa dos detalhes (posição, grupos, etc.) de cada ocorrência.\n",
    "'''\n",
    "\n",
    "padrao = r'lino'\n",
    "check_finditer = re.finditer(padrao, texto)\n",
    "for check_correspondeincas in check_finditer:\n",
    "    print(check_correspondeincas)"
   ]
  },
  {
   "cell_type": "code",
   "execution_count": 8,
   "id": "40fc375d",
   "metadata": {},
   "outputs": [
    {
     "name": "stdout",
     "output_type": "stream",
     "text": [
      "<re.Match object; span=(20, 21), match='1'>\n",
      "<re.Match object; span=(21, 22), match='0'>\n",
      "<re.Match object; span=(22, 23), match='0'>\n",
      "<re.Match object; span=(30, 31), match='2'>\n",
      "<re.Match object; span=(31, 32), match='0'>\n",
      "<re.Match object; span=(32, 33), match='2'>\n",
      "<re.Match object; span=(33, 34), match='1'>\n"
     ]
    }
   ],
   "source": [
    "# exp:.2\n",
    "for m in re.finditer(r'\\d', 'Comprei uma maçã de 100kzs em 2021'):\n",
    "    print(m)"
   ]
  },
  {
   "cell_type": "markdown",
   "id": "dc60f349",
   "metadata": {},
   "source": [
    "# Estruturas\n",
    "* Depois de saber como usar cada caractere para encontrar os padrões nos textos, agora vamos usar as estruturas onde esses caracteres que aprendemos e os métodos de checagem serão aplicados."
   ]
  },
  {
   "cell_type": "markdown",
   "id": "5c7d1e1e",
   "metadata": {},
   "source": [
    "# [] charsacter set\n",
    "* usados para agrupar caracteres, ou seja, para indicar que o padrão pode ser qualquer um dos caracteres dentro do conjunto.\n"
   ]
  },
  {
   "cell_type": "code",
   "execution_count": 9,
   "id": "1a4decb5",
   "metadata": {},
   "outputs": [
    {
     "name": "stdout",
     "output_type": "stream",
     "text": [
      "['A', 'maçã', 'custa', '150kzs'] \n",
      "\n",
      "['raimo 2002'] \n",
      "\n",
      "<re.Match object; span=(5, 6), match='A'>\n",
      "<re.Match object; span=(6, 7), match='r'>\n",
      "<re.Match object; span=(7, 8), match='a'>\n",
      "<re.Match object; span=(8, 9), match='i'>\n",
      "<re.Match object; span=(9, 10), match='m'>\n",
      "<re.Match object; span=(10, 11), match='o'>\n",
      "<re.Match object; span=(12, 13), match='2'>\n",
      "<re.Match object; span=(13, 14), match='0'>\n",
      "<re.Match object; span=(14, 15), match='0'>\n",
      "<re.Match object; span=(15, 16), match='2'>\n"
     ]
    }
   ],
   "source": [
    "# ex:\n",
    "texto = 'A maçã custa 150kzs'\n",
    "padrao = r'[a-zA-Z\\w]+' # quero caracteres de a-zA-Z em que eles são alfanum...\n",
    "check = re.findall(padrao, texto)\n",
    "print(check, '\\n')\n",
    "\n",
    "\n",
    "# ex2:\n",
    "texto = '''\n",
    "    Araimo 2002\n",
    "'''\n",
    "padrao = r'[a-z]+ [\\d]+'\n",
    "check = re.findall(padrao, texto)\n",
    "print(check, '\\n')\n",
    "\n",
    "# --------- finditer() ----------\n",
    "padrao = r'[a-zA-Z0-9]'\n",
    "check = re.finditer(padrao, texto)\n",
    "for read_iter in check:\n",
    "    print(read_iter)"
   ]
  },
  {
   "cell_type": "code",
   "execution_count": 10,
   "id": "316d4395-24f2-4e55-af49-0deaaf36a959",
   "metadata": {},
   "outputs": [
    {
     "name": "stdout",
     "output_type": "stream",
     "text": [
      "<re.Match object; span=(5, 16), match='Araimo 2002'>\n",
      "<re.Match object; span=(29, 37), match='Rei 2002'>\n"
     ]
    }
   ],
   "source": [
    "texto = '''\n",
    "    Araimo 2002\n",
    "    copa do Rei 2002 \n",
    "'''\n",
    "\n",
    "# --------- finditer() ----------\n",
    "padrao = r'[a-zA-Z]+ [0-9]+' # Quero o grupo de caracteres de a-z ou A-Z  e um outro grupo de caracteres de 0-9\n",
    "check = re.finditer(padrao, texto)\n",
    "for read_iter in check:\n",
    "    print(read_iter)"
   ]
  },
  {
   "cell_type": "markdown",
   "id": "8ef2b77c-1479-4e72-9c09-60c57fa2af1b",
   "metadata": {},
   "source": [
    "# **Quantificadores (define quantas vezes você quer)**"
   ]
  },
  {
   "cell_type": "code",
   "execution_count": 11,
   "id": "19c9cf3c-6128-40e8-a720-404500f4b0eb",
   "metadata": {},
   "outputs": [
    {
     "name": "stdout",
     "output_type": "stream",
     "text": [
      "Em vez de usar objetos Python, também podemos executar consultas SQL usando String.\n",
      "Basta adicionar o argumento como uma string à função `execute` e visualizar o resultado usando `fetchall`. \n"
     ]
    },
    {
     "data": {
      "text/plain": [
       "[<re.Match object; span=(0, 0), match=''>,\n",
       " <re.Match object; span=(1, 1), match=''>,\n",
       " <re.Match object; span=(2, 2), match=''>,\n",
       " <re.Match object; span=(3, 3), match=''>,\n",
       " <re.Match object; span=(4, 4), match=''>,\n",
       " <re.Match object; span=(5, 5), match=''>,\n",
       " <re.Match object; span=(6, 6), match=''>,\n",
       " <re.Match object; span=(7, 7), match=''>,\n",
       " <re.Match object; span=(8, 8), match=''>,\n",
       " <re.Match object; span=(9, 9), match=''>,\n",
       " <re.Match object; span=(10, 13), match='usa'>,\n",
       " <re.Match object; span=(13, 13), match=''>,\n",
       " <re.Match object; span=(14, 14), match=''>,\n",
       " <re.Match object; span=(15, 15), match=''>,\n",
       " <re.Match object; span=(16, 16), match=''>,\n",
       " <re.Match object; span=(17, 17), match=''>,\n",
       " <re.Match object; span=(18, 18), match=''>,\n",
       " <re.Match object; span=(19, 19), match=''>,\n",
       " <re.Match object; span=(20, 20), match=''>,\n",
       " <re.Match object; span=(21, 22), match='s'>,\n",
       " <re.Match object; span=(22, 22), match=''>,\n",
       " <re.Match object; span=(23, 23), match=''>,\n",
       " <re.Match object; span=(24, 24), match=''>,\n",
       " <re.Match object; span=(25, 25), match=''>,\n",
       " <re.Match object; span=(26, 26), match=''>,\n",
       " <re.Match object; span=(27, 27), match=''>,\n",
       " <re.Match object; span=(28, 28), match=''>,\n",
       " <re.Match object; span=(29, 29), match=''>,\n",
       " <re.Match object; span=(30, 30), match=''>,\n",
       " <re.Match object; span=(31, 31), match=''>,\n",
       " <re.Match object; span=(32, 33), match='a'>,\n",
       " <re.Match object; span=(33, 33), match=''>,\n",
       " <re.Match object; span=(34, 34), match=''>,\n",
       " <re.Match object; span=(35, 35), match=''>,\n",
       " <re.Match object; span=(36, 36), match=''>,\n",
       " <re.Match object; span=(37, 37), match=''>,\n",
       " <re.Match object; span=(38, 38), match=''>,\n",
       " <re.Match object; span=(39, 39), match=''>,\n",
       " <re.Match object; span=(40, 40), match=''>,\n",
       " <re.Match object; span=(41, 41), match=''>,\n",
       " <re.Match object; span=(42, 42), match=''>,\n",
       " <re.Match object; span=(43, 43), match=''>,\n",
       " <re.Match object; span=(44, 45), match='s'>,\n",
       " <re.Match object; span=(45, 45), match=''>,\n",
       " <re.Match object; span=(46, 46), match=''>,\n",
       " <re.Match object; span=(47, 47), match=''>,\n",
       " <re.Match object; span=(48, 48), match=''>,\n",
       " <re.Match object; span=(49, 49), match=''>,\n",
       " <re.Match object; span=(50, 51), match='u'>,\n",
       " <re.Match object; span=(51, 51), match=''>,\n",
       " <re.Match object; span=(52, 53), match='a'>,\n",
       " <re.Match object; span=(53, 53), match=''>,\n",
       " <re.Match object; span=(54, 54), match=''>,\n",
       " <re.Match object; span=(55, 55), match=''>,\n",
       " <re.Match object; span=(56, 56), match=''>,\n",
       " <re.Match object; span=(57, 57), match=''>,\n",
       " <re.Match object; span=(58, 60), match='su'>,\n",
       " <re.Match object; span=(60, 60), match=''>,\n",
       " <re.Match object; span=(61, 61), match=''>,\n",
       " <re.Match object; span=(62, 64), match='as'>,\n",
       " <re.Match object; span=(64, 64), match=''>,\n",
       " <re.Match object; span=(65, 65), match=''>,\n",
       " <re.Match object; span=(66, 66), match=''>,\n",
       " <re.Match object; span=(67, 67), match=''>,\n",
       " <re.Match object; span=(68, 68), match=''>,\n",
       " <re.Match object; span=(69, 72), match='usa'>,\n",
       " <re.Match object; span=(72, 72), match=''>,\n",
       " <re.Match object; span=(73, 73), match=''>,\n",
       " <re.Match object; span=(74, 74), match=''>,\n",
       " <re.Match object; span=(75, 75), match=''>,\n",
       " <re.Match object; span=(76, 76), match=''>,\n",
       " <re.Match object; span=(77, 77), match=''>,\n",
       " <re.Match object; span=(78, 78), match=''>,\n",
       " <re.Match object; span=(79, 79), match=''>,\n",
       " <re.Match object; span=(80, 80), match=''>,\n",
       " <re.Match object; span=(81, 81), match=''>,\n",
       " <re.Match object; span=(82, 82), match=''>,\n",
       " <re.Match object; span=(83, 83), match=''>,\n",
       " <re.Match object; span=(84, 84), match=''>,\n",
       " <re.Match object; span=(85, 87), match='as'>,\n",
       " <re.Match object; span=(87, 87), match=''>,\n",
       " <re.Match object; span=(88, 89), match='a'>,\n",
       " <re.Match object; span=(89, 89), match=''>,\n",
       " <re.Match object; span=(90, 91), match='a'>,\n",
       " <re.Match object; span=(91, 91), match=''>,\n",
       " <re.Match object; span=(92, 92), match=''>,\n",
       " <re.Match object; span=(93, 93), match=''>,\n",
       " <re.Match object; span=(94, 94), match=''>,\n",
       " <re.Match object; span=(95, 95), match=''>,\n",
       " <re.Match object; span=(96, 96), match=''>,\n",
       " <re.Match object; span=(97, 98), match='a'>,\n",
       " <re.Match object; span=(98, 98), match=''>,\n",
       " <re.Match object; span=(99, 99), match=''>,\n",
       " <re.Match object; span=(100, 100), match=''>,\n",
       " <re.Match object; span=(101, 101), match=''>,\n",
       " <re.Match object; span=(102, 103), match='a'>,\n",
       " <re.Match object; span=(103, 103), match=''>,\n",
       " <re.Match object; span=(104, 104), match=''>,\n",
       " <re.Match object; span=(105, 106), match='u'>,\n",
       " <re.Match object; span=(106, 106), match=''>,\n",
       " <re.Match object; span=(107, 107), match=''>,\n",
       " <re.Match object; span=(108, 108), match=''>,\n",
       " <re.Match object; span=(109, 109), match=''>,\n",
       " <re.Match object; span=(110, 110), match=''>,\n",
       " <re.Match object; span=(111, 111), match=''>,\n",
       " <re.Match object; span=(112, 112), match=''>,\n",
       " <re.Match object; span=(113, 113), match=''>,\n",
       " <re.Match object; span=(114, 114), match=''>,\n",
       " <re.Match object; span=(115, 115), match=''>,\n",
       " <re.Match object; span=(116, 116), match=''>,\n",
       " <re.Match object; span=(117, 118), match='u'>,\n",
       " <re.Match object; span=(118, 118), match=''>,\n",
       " <re.Match object; span=(119, 120), match='a'>,\n",
       " <re.Match object; span=(120, 120), match=''>,\n",
       " <re.Match object; span=(121, 122), match='s'>,\n",
       " <re.Match object; span=(122, 122), match=''>,\n",
       " <re.Match object; span=(123, 123), match=''>,\n",
       " <re.Match object; span=(124, 124), match=''>,\n",
       " <re.Match object; span=(125, 125), match=''>,\n",
       " <re.Match object; span=(126, 126), match=''>,\n",
       " <re.Match object; span=(127, 127), match=''>,\n",
       " <re.Match object; span=(128, 128), match=''>,\n",
       " <re.Match object; span=(129, 129), match=''>,\n",
       " <re.Match object; span=(130, 130), match=''>,\n",
       " <re.Match object; span=(131, 132), match='u'>,\n",
       " <re.Match object; span=(132, 132), match=''>,\n",
       " <re.Match object; span=(133, 133), match=''>,\n",
       " <re.Match object; span=(134, 134), match=''>,\n",
       " <re.Match object; span=(135, 135), match=''>,\n",
       " <re.Match object; span=(136, 136), match=''>,\n",
       " <re.Match object; span=(137, 137), match=''>,\n",
       " <re.Match object; span=(138, 138), match=''>,\n",
       " <re.Match object; span=(139, 139), match=''>,\n",
       " <re.Match object; span=(140, 140), match=''>,\n",
       " <re.Match object; span=(141, 141), match=''>,\n",
       " <re.Match object; span=(142, 143), match='u'>,\n",
       " <re.Match object; span=(143, 143), match=''>,\n",
       " <re.Match object; span=(144, 144), match=''>,\n",
       " <re.Match object; span=(145, 145), match=''>,\n",
       " <re.Match object; span=(146, 146), match=''>,\n",
       " <re.Match object; span=(147, 147), match=''>,\n",
       " <re.Match object; span=(148, 148), match=''>,\n",
       " <re.Match object; span=(149, 149), match=''>,\n",
       " <re.Match object; span=(150, 150), match=''>,\n",
       " <re.Match object; span=(151, 154), match='sua'>,\n",
       " <re.Match object; span=(154, 154), match=''>,\n",
       " <re.Match object; span=(155, 155), match=''>,\n",
       " <re.Match object; span=(156, 156), match=''>,\n",
       " <re.Match object; span=(157, 158), match='a'>,\n",
       " <re.Match object; span=(158, 158), match=''>,\n",
       " <re.Match object; span=(159, 159), match=''>,\n",
       " <re.Match object; span=(160, 160), match=''>,\n",
       " <re.Match object; span=(161, 161), match=''>,\n",
       " <re.Match object; span=(162, 162), match=''>,\n",
       " <re.Match object; span=(163, 163), match=''>,\n",
       " <re.Match object; span=(164, 166), match='su'>,\n",
       " <re.Match object; span=(166, 166), match=''>,\n",
       " <re.Match object; span=(167, 167), match=''>,\n",
       " <re.Match object; span=(168, 169), match='a'>,\n",
       " <re.Match object; span=(169, 169), match=''>,\n",
       " <re.Match object; span=(170, 170), match=''>,\n",
       " <re.Match object; span=(171, 171), match=''>,\n",
       " <re.Match object; span=(172, 175), match='usa'>,\n",
       " <re.Match object; span=(175, 175), match=''>,\n",
       " <re.Match object; span=(176, 176), match=''>,\n",
       " <re.Match object; span=(177, 177), match=''>,\n",
       " <re.Match object; span=(178, 178), match=''>,\n",
       " <re.Match object; span=(179, 179), match=''>,\n",
       " <re.Match object; span=(180, 180), match=''>,\n",
       " <re.Match object; span=(181, 181), match=''>,\n",
       " <re.Match object; span=(182, 182), match=''>,\n",
       " <re.Match object; span=(183, 183), match=''>,\n",
       " <re.Match object; span=(184, 184), match=''>,\n",
       " <re.Match object; span=(185, 186), match='a'>,\n",
       " <re.Match object; span=(186, 186), match=''>,\n",
       " <re.Match object; span=(187, 187), match=''>,\n",
       " <re.Match object; span=(188, 188), match=''>,\n",
       " <re.Match object; span=(189, 189), match=''>,\n",
       " <re.Match object; span=(190, 190), match=''>,\n",
       " <re.Match object; span=(191, 191), match=''>]"
      ]
     },
     "execution_count": 11,
     "metadata": {},
     "output_type": "execute_result"
    }
   ],
   "source": [
    "# * - Quero zero ou mais ocorrências do padrão (0 ou mais vezes)\n",
    "print(text)\n",
    "padrao = r'[usa]*'\n",
    "check = re.finditer(padrao, text)\n",
    "list(check)"
   ]
  },
  {
   "cell_type": "code",
   "execution_count": 12,
   "id": "6c597754-1abd-40c8-a646-948a8817182c",
   "metadata": {},
   "outputs": [
    {
     "data": {
      "text/plain": [
       "[<re.Match object; span=(2, 7), match='anana'>]"
      ]
     },
     "execution_count": 12,
     "metadata": {},
     "output_type": "execute_result"
    }
   ],
   "source": [
    "# + - Quero uma ou mais ocorrências do padrão\n",
    "texto = '''\n",
    "Banana\n",
    "'''\n",
    "padrao = r'[nana]+'\n",
    "check = re.finditer(padrao, texto)\n",
    "list(check)"
   ]
  },
  {
   "cell_type": "code",
   "execution_count": 13,
   "id": "f4c0ab8c-e4f4-4849-afc2-bc22cac73338",
   "metadata": {},
   "outputs": [
    {
     "data": {
      "text/plain": [
       "[<re.Match object; span=(0, 0), match=''>,\n",
       " <re.Match object; span=(1, 1), match=''>,\n",
       " <re.Match object; span=(2, 3), match='a'>,\n",
       " <re.Match object; span=(3, 4), match='n'>,\n",
       " <re.Match object; span=(4, 5), match='a'>,\n",
       " <re.Match object; span=(5, 6), match='n'>,\n",
       " <re.Match object; span=(6, 7), match='a'>,\n",
       " <re.Match object; span=(7, 7), match=''>,\n",
       " <re.Match object; span=(8, 8), match=''>]"
      ]
     },
     "execution_count": 13,
     "metadata": {},
     "output_type": "execute_result"
    }
   ],
   "source": [
    "# ? - Quero zero ou uma ocorrência do padrão\n",
    "padrao = r'[nana]?'\n",
    "check = re.finditer(padrao, texto)\n",
    "list(check)"
   ]
  },
  {
   "cell_type": "code",
   "execution_count": 14,
   "id": "c4738a11-b2b3-447b-a7fd-5d84668bd0c9",
   "metadata": {},
   "outputs": [
    {
     "data": {
      "text/plain": [
       "[<re.Match object; span=(26, 27), match='2'>,\n",
       " <re.Match object; span=(27, 28), match='4'>,\n",
       " <re.Match object; span=(28, 29), match='4'>,\n",
       " <re.Match object; span=(31, 32), match='9'>,\n",
       " <re.Match object; span=(32, 33), match='5'>,\n",
       " <re.Match object; span=(33, 34), match='6'>,\n",
       " <re.Match object; span=(35, 36), match='8'>,\n",
       " <re.Match object; span=(36, 37), match='8'>,\n",
       " <re.Match object; span=(37, 38), match='5'>,\n",
       " <re.Match object; span=(39, 40), match='4'>,\n",
       " <re.Match object; span=(40, 41), match='8'>,\n",
       " <re.Match object; span=(41, 42), match='4'>]"
      ]
     },
     "execution_count": 14,
     "metadata": {},
     "output_type": "execute_result"
    }
   ],
   "source": [
    "texto = 'O núemro da veronica é: (+244) 956 885 484'\n",
    "padrao = r'[\\d]'\n",
    "check = re.finditer(padrao, texto)\n",
    "list(check) # podes usar o for também para ver o iteravel!"
   ]
  },
  {
   "cell_type": "code",
   "execution_count": 15,
   "id": "a10ef563",
   "metadata": {},
   "outputs": [
    {
     "name": "stdout",
     "output_type": "stream",
     "text": [
      "<re.Match object; span=(26, 29), match='244'>\n",
      "<re.Match object; span=(31, 34), match='956'>\n",
      "<re.Match object; span=(35, 38), match='885'>\n",
      "<re.Match object; span=(39, 42), match='484'>\n"
     ]
    }
   ],
   "source": [
    "# {n} - Quero exatamente n ocorrências do padrão\n",
    "#ex:\n",
    "padrao = r'[\\d]{3}'\n",
    "check  = re.finditer(padrao, texto)\n",
    "# list(check)\n",
    "\n",
    "for show_iter in check:\n",
    "    print(show_iter) "
   ]
  },
  {
   "cell_type": "code",
   "execution_count": 16,
   "id": "448e645e",
   "metadata": {},
   "outputs": [
    {
     "name": "stdout",
     "output_type": "stream",
     "text": [
      "<re.Match object; span=(26, 29), match='244'>\n",
      "<re.Match object; span=(31, 34), match='956'>\n",
      "<re.Match object; span=(35, 38), match='885'>\n",
      "<re.Match object; span=(39, 42), match='484'>\n"
     ]
    }
   ],
   "source": [
    "# {n,m} - Quero entre n e m ocorrências do padrão\n",
    "padrao = r'[\\d]{3,4}'\n",
    "check  = re.finditer(padrao, texto)\n",
    "# list(check)\n",
    "\n",
    "for show_iter in check:\n",
    "    print(show_iter) "
   ]
  },
  {
   "cell_type": "markdown",
   "id": "299902d7",
   "metadata": {},
   "source": [
    "# **Agrupamento (define combinações que você quer)**"
   ]
  },
  {
   "cell_type": "code",
   "execution_count": 17,
   "id": "4cf61b91",
   "metadata": {},
   "outputs": [
    {
     "name": "stdout",
     "output_type": "stream",
     "text": [
      "<re.Match object; span=(17, 36), match='https://google.com/'>\n",
      "<re.Match object; span=(37, 56), match='https://www.gov.br/'>\n",
      "<re.Match object; span=(57, 84), match='https://www.kaiamba.com.br/'>\n",
      "<re.Match object; span=(85, 112), match='http://www.faetec.rj.gv.br/'>\n"
     ]
    }
   ],
   "source": [
    "txt = '''\n",
    "Sites diversos:\n",
    "https://google.com/\n",
    "https://www.gov.br/\n",
    "https://www.kaiamba.com.br/\n",
    "http://www.faetec.rj.gv.br/\n",
    "'''\n",
    "d = []\n",
    "padrao = r'(https?:)//(www\\.)?(.+)'\n",
    "check = re.finditer(padrao, txt)\n",
    "for check in check:\n",
    "    print(check)\n",
    "    d.append({\n",
    "        'links':check.group(0) \n",
    "    })"
   ]
  },
  {
   "cell_type": "code",
   "execution_count": 18,
   "id": "6088150d",
   "metadata": {},
   "outputs": [
    {
     "name": "stdout",
     "output_type": "stream",
     "text": [
      "daniel@dominio.com\n",
      "daniel.candiotto@dominio.com.br\n",
      "DANIEL@dominio.br\n",
      "DANIEL.CANDIOTTO@gob.br\n",
      "danielcandiotto1@dominio1.co\n",
      "daniel_candiotto_1@domino-dominio.net\n"
     ]
    }
   ],
   "source": [
    "email = '''\n",
    "Vários e-mails:\n",
    "daniel@dominio.com\n",
    "daniel.candiotto@dominio.com.br\n",
    "DANIEL@dominio.br\n",
    "DANIEL.CANDIOTTO@gob.br\n",
    "danielcandiotto1@dominio1.co\n",
    "daniel_candiotto_1@domino-dominio.net\n",
    "'''\n",
    "\n",
    "padrao = r'([a-zA-Z0-9_.?]+@)(.+)'\n",
    "check = re.finditer(padrao,email)\n",
    "for check in check:\n",
    "    d.append({\n",
    "        'Dominio': check.group(0)\n",
    "    })\n",
    "    print(check.group(0))"
   ]
  },
  {
   "cell_type": "code",
   "execution_count": 19,
   "id": "0c8eb89e",
   "metadata": {},
   "outputs": [
    {
     "name": "stdout",
     "output_type": "stream",
     "text": [
      "<re.Match object; span=(25, 34), match='956885484'>\n",
      "<re.Match object; span=(51, 60), match='966444484'>\n"
     ]
    }
   ],
   "source": [
    "texto = '''\n",
    "O número da veronica e: 956885484\n",
    "O meu número e: 966444484\n",
    "'''\n",
    "padrao = r'([0-9]+)'\n",
    "# check = re.findall(padrao, texto)\n",
    "# print(check)\n",
    "d = []\n",
    "check = re.finditer(padrao,texto)\n",
    "for check in check:\n",
    "    d.append({\n",
    "        'Numero Telefone': check.group(1)\n",
    "    })\n",
    "    print(check)\n",
    "#  obs: o group(0) - é o resultado de todo elemento que ele pegou. já o group(1,2,3...) é cada informação que ele pegou"
   ]
  },
  {
   "cell_type": "code",
   "execution_count": 20,
   "id": "51b54965",
   "metadata": {},
   "outputs": [
    {
     "data": {
      "text/html": [
       "<div>\n",
       "<style scoped>\n",
       "    .dataframe tbody tr th:only-of-type {\n",
       "        vertical-align: middle;\n",
       "    }\n",
       "\n",
       "    .dataframe tbody tr th {\n",
       "        vertical-align: top;\n",
       "    }\n",
       "\n",
       "    .dataframe thead th {\n",
       "        text-align: right;\n",
       "    }\n",
       "</style>\n",
       "<table border=\"1\" class=\"dataframe\">\n",
       "  <thead>\n",
       "    <tr style=\"text-align: right;\">\n",
       "      <th></th>\n",
       "      <th>Numero Telefone</th>\n",
       "    </tr>\n",
       "  </thead>\n",
       "  <tbody>\n",
       "    <tr>\n",
       "      <th>0</th>\n",
       "      <td>956885484</td>\n",
       "    </tr>\n",
       "    <tr>\n",
       "      <th>1</th>\n",
       "      <td>966444484</td>\n",
       "    </tr>\n",
       "  </tbody>\n",
       "</table>\n",
       "</div>"
      ],
      "text/plain": [
       "  Numero Telefone\n",
       "0       956885484\n",
       "1       966444484"
      ]
     },
     "execution_count": 20,
     "metadata": {},
     "output_type": "execute_result"
    }
   ],
   "source": [
    "import pandas as pd\n",
    "df = pd.DataFrame(d)\n",
    "df"
   ]
  },
  {
   "cell_type": "markdown",
   "id": "8ccac248",
   "metadata": {},
   "source": [
    "# Exercício"
   ]
  },
  {
   "cell_type": "code",
   "execution_count": 22,
   "id": "8ae4493b",
   "metadata": {},
   "outputs": [
    {
     "data": {
      "text/plain": [
       "[('203.0.113.10', '17/Apr/2025:01:17:15 +0000', 'DELETE /login HTTP/1.1')]"
      ]
     },
     "execution_count": 22,
     "metadata": {},
     "output_type": "execute_result"
    }
   ],
   "source": [
    "Logs = '203.0.113.10 - - [17/Apr/2025:01:17:15 +0000] \"DELETE /login HTTP/1.1\" 301 1391'\n",
    "padrao = r'(\\d+\\.\\d+\\.\\d+\\.\\d+) - - \\[(.*)\\] \"(.*)\" \\d+ \\d+'\n",
    "find = re.findall(padrao, Logs)\n",
    "find\n",
    "\n"
   ]
  },
  {
   "cell_type": "code",
   "execution_count": 23,
   "id": "7441beac-42b8-43bf-baef-dc7ab21eecbd",
   "metadata": {},
   "outputs": [
    {
     "name": "stdout",
     "output_type": "stream",
     "text": [
      "<re.Match object; span=(0, 79), match='203.0.113.10 - - [17/Apr/2025:01:17:15 +0000] \"DE>\n"
     ]
    }
   ],
   "source": [
    "check = re.finditer(padrao, Logs)\n",
    "df = []\n",
    "for check in check:\n",
    "    print(check)\n",
    "    c = check.groupdict()\n",
    "    \n",
    "    df.append({\n",
    "        'Endereço Ip': check.group(1),\n",
    "        'Data_hora': check.group(2),\n",
    "        'Rescurso acessado': check.group(3)\n",
    "    })"
   ]
  },
  {
   "cell_type": "code",
   "execution_count": 24,
   "id": "6544168b-6613-4a21-9b3a-52321e25c062",
   "metadata": {},
   "outputs": [
    {
     "data": {
      "text/html": [
       "<div>\n",
       "<style scoped>\n",
       "    .dataframe tbody tr th:only-of-type {\n",
       "        vertical-align: middle;\n",
       "    }\n",
       "\n",
       "    .dataframe tbody tr th {\n",
       "        vertical-align: top;\n",
       "    }\n",
       "\n",
       "    .dataframe thead th {\n",
       "        text-align: right;\n",
       "    }\n",
       "</style>\n",
       "<table border=\"1\" class=\"dataframe\">\n",
       "  <thead>\n",
       "    <tr style=\"text-align: right;\">\n",
       "      <th></th>\n",
       "      <th>Endereço Ip</th>\n",
       "      <th>Data_hora</th>\n",
       "      <th>Rescurso acessado</th>\n",
       "    </tr>\n",
       "  </thead>\n",
       "  <tbody>\n",
       "    <tr>\n",
       "      <th>0</th>\n",
       "      <td>203.0.113.10</td>\n",
       "      <td>17/Apr/2025:01:17:15 +0000</td>\n",
       "      <td>DELETE /login HTTP/1.1</td>\n",
       "    </tr>\n",
       "  </tbody>\n",
       "</table>\n",
       "</div>"
      ],
      "text/plain": [
       "    Endereço Ip                   Data_hora       Rescurso acessado\n",
       "0  203.0.113.10  17/Apr/2025:01:17:15 +0000  DELETE /login HTTP/1.1"
      ]
     },
     "execution_count": 24,
     "metadata": {},
     "output_type": "execute_result"
    }
   ],
   "source": [
    "import pandas as pd\n",
    "df = pd.DataFrame(df)\n",
    "df"
   ]
  },
  {
   "cell_type": "code",
   "execution_count": null,
   "id": "91ba8498",
   "metadata": {},
   "outputs": [],
   "source": []
  }
 ],
 "metadata": {
  "kernelspec": {
   "display_name": "Python 3",
   "language": "python",
   "name": "python3"
  },
  "language_info": {
   "codemirror_mode": {
    "name": "ipython",
    "version": 3
   },
   "file_extension": ".py",
   "mimetype": "text/x-python",
   "name": "python",
   "nbconvert_exporter": "python",
   "pygments_lexer": "ipython3",
   "version": "3.13.7"
  }
 },
 "nbformat": 4,
 "nbformat_minor": 5
}

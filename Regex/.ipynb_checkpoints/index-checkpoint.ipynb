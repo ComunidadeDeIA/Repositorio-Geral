{
 "cells": [
  {
   "cell_type": "markdown",
   "id": "cb8741a1",
   "metadata": {},
   "source": [
    "# **Regex** - Expressões regulares\n",
    "* São usadas para encontrar padrões num conjunto de textos;\n",
    "* É útil para extrair informações relevantes para quem quiser trabalhar com dados;\n",
    "* Utiliza uma sequência de caracteres para encontrar padrões nos textos;\n",
    "* Pode ser usada também para manipular strings."
   ]
  },
  {
   "cell_type": "code",
   "execution_count": 1,
   "id": "ef8cac6e",
   "metadata": {},
   "outputs": [],
   "source": [
    "# importantando a biblioteca\n",
    "import re\n",
    "\n",
    "# O texto\n",
    "text = [\"\"\"Em vez de usar objetos Python, também podemos executar consultas SQL usando String.\n",
    "Basta adicionar o argumento como uma string à função `execute` e visualizar o resultado usando `fetchall`. \"\"\"]\n",
    "\n",
    "text = text[0] # Para não passar a extrair toda a hora ^_^\n",
    "\n",
    "txt = '''\n",
    "Sites diversos:\n",
    "https://google.com/\n",
    "https://www.gov.br/\n",
    "https://www.kaiamba.com.br/\n",
    "http://www.faetec.rj.gv.br/\n",
    "'''"
   ]
  },
  {
   "cell_type": "markdown",
   "id": "22176174",
   "metadata": {},
   "source": [
    "# **Caracteres:**"
   ]
  },
  {
   "cell_type": "code",
   "execution_count": 2,
   "id": "04f8f93b",
   "metadata": {},
   "outputs": [
    {
     "name": "stdout",
     "output_type": "stream",
     "text": [
      "['agora']\n",
      "['suco', 'sujo', 'subo']\n"
     ]
    },
    {
     "data": {
      "text/plain": [
       "['.']"
      ]
     },
     "execution_count": 2,
     "metadata": {},
     "output_type": "execute_result"
    }
   ],
   "source": [
    "# . - Entende qualquer coisa(letra) excepto uma nova linha(\\n)\n",
    "# \\. - Para buscar o caracter \".\"\n",
    "texto = 'agora'\n",
    "padrao = r'a...a' # encontre qualquer texto que tiver o padrao a...a\n",
    "resultado = re.findall(padrao, texto)\n",
    "print(resultado) # ['agora']\n",
    "\n",
    "# exemplo2\n",
    "texto2 = ''' \n",
    "    suco\n",
    "    sujo\n",
    "    su\\no\n",
    "    subo\n",
    "'''\n",
    "\n",
    "padrao = r's..o'\n",
    "find_text= re.findall(padrao, texto2)\n",
    "print(find_text)\n",
    "\n",
    "texto  = 'Entendo.'\n",
    "padrao =  r'\\.' # encontre o '.' num conjunto de texto\n",
    "find = re.findall(padrao, texto)# Ou seja acha um padrão no texto\n",
    "find #  ['.', '.']\n"
   ]
  },
  {
   "cell_type": "code",
   "execution_count": 3,
   "id": "dbf8aac9",
   "metadata": {},
   "outputs": [
    {
     "name": "stdout",
     "output_type": "stream",
     "text": [
      "['amor']\n",
      "['', '', '', '', ' é u', '', ' senti', '', 'ent', '', ' que deve', '', '', 's d', '', '', ' e ', '', 'ecebe', '', '']\n"
     ]
    }
   ],
   "source": [
    "# ^ vai sempre olhar para  o início da string. Irá testar o inicio da string\n",
    "#[^] - Irá considerar todos os caracteres excepto o indicado, ou seja, considere qualquer caracter menos a que digitarei\n",
    "\n",
    "texto = 'amor é um sentimento que devemos dar e receber'\n",
    "p1 = r'^amor'\n",
    "check = re.findall(p1,texto)\n",
    "print(check)\n",
    " \n",
    "p2 = r'[^amor]*' # Considere tudo menos a,m,o,r letra a,m,o,r\n",
    "check = re.findall(p2,texto)\n",
    "print(check)\n"
   ]
  },
  {
   "cell_type": "code",
   "execution_count": 4,
   "id": "bea57d2a",
   "metadata": {},
   "outputs": [
    {
     "name": "stdout",
     "output_type": "stream",
     "text": [
      "['2', '0', '2', '5']\n",
      "['b', 'o', 'm', 'd', 'i', 'a']\n"
     ]
    }
   ],
   "source": [
    "#\\d - Qualquer caracter que seja um algarismo de 0 a 9 ()\n",
    "#\\D - Qualquer caracter que não seja um algarismo de 0 a 9\n",
    "\n",
    "texto = 'bomdia2025'\n",
    "padrao1 = r'\\d'\n",
    "find = re.findall(padrao1, texto)\n",
    "print(find)\n",
    "\n",
    "padrao2 = r'\\D'\n",
    "find = re.findall(padrao2, texto)\n",
    "print(find)"
   ]
  },
  {
   "cell_type": "code",
   "execution_count": 5,
   "id": "67a3d062",
   "metadata": {},
   "outputs": [
    {
     "name": "stdout",
     "output_type": "stream",
     "text": [
      "['\\n', '\\n', ' ', ' ', '\\n', '\\n']\n",
      "['b', 'o', 'm', 'd', 'i', 'a', '2', '0', '2', '5']\n"
     ]
    }
   ],
   "source": [
    "#\\s - Qualquer caracter que seja vazio, ou seja, de espaço em branco\n",
    "#\\S - Qualquer caracter que não seja vazio\n",
    "\n",
    "texto = '''\n",
    "\n",
    "bom dia 2025\n",
    "\n",
    "'''\n",
    "\n",
    "padrao = r'\\s'\n",
    "find = re.findall(padrao, texto)\n",
    "print(find)\n",
    "\n",
    "padrao2 = r'\\S'\n",
    "find = re.findall(padrao2, texto)\n",
    "print(find)"
   ]
  },
  {
   "cell_type": "code",
   "execution_count": 6,
   "id": "7c75e9aa",
   "metadata": {},
   "outputs": [
    {
     "name": "stdout",
     "output_type": "stream",
     "text": [
      "['_', 'j', 'e', 'o', 'v', 'a', 'n', 'i', 'ã', '1', '9', '9', '3']\n",
      "['\\n', '@', ' ', ' ', '*', ' ', ':', ' ', '\\n', '\\n']\n"
     ]
    }
   ],
   "source": [
    "# \\w- Qualquer caracter que seja alfanumérico\n",
    "# \\W- Qualquer caracter que não seja alfanumérico\n",
    "\n",
    "texto = '''\n",
    "_jeovani@ ã * 1993: \n",
    "\n",
    "'''\n",
    "padrao = r'\\w'\n",
    "find = re.findall(padrao, texto)\n",
    "print(find)\n",
    " \n",
    "padrao_ = r'\\W'\n",
    "find = re.findall(padrao_, texto)\n",
    "print(find)"
   ]
  },
  {
   "cell_type": "markdown",
   "id": "a23b241b",
   "metadata": {},
   "source": [
    "# Método de checagem:"
   ]
  },
  {
   "cell_type": "code",
   "execution_count": null,
   "id": "3bd61956",
   "metadata": {},
   "outputs": [
    {
     "name": "stdout",
     "output_type": "stream",
     "text": [
      "['v']\n",
      "<re.Match object; span=(0, 2), match='av'>\n",
      "<re.Match object; span=(1, 2), match='v'>\n",
      "<callable_iterator object at 0x7f1d67554a30>\n",
      "<re.Match object; span=(1, 2), match='v'>\n"
     ]
    }
   ],
   "source": [
    "# findall()\n",
    "# match()\n",
    "#search()\n",
    "#finditer()\n",
    "\n",
    "# ----------------------------------- findall() -----------------------------------\n",
    "''' \n",
    "re.findall(padrao, texto) - Retorna todas as ocorrências do padrão na string, como uma lista.\n",
    "Usar quando: Você quer coletar todos os valores que casam com um padrão.\n",
    "'''\n",
    "\n",
    "# ex:\n",
    "texto = 'avlino'\n",
    "padrao = r'v'\n",
    "encontrar = re.findall(padrao, texto)\n",
    "print(encontrar)\n",
    "\n",
    "# ----------------------------------- match() -----------------------------------\n",
    "'''re.match(padrao, texto) - Verifica se o padrão (regex) casa no início da string.\n",
    "Usar quando: Você quer verificar se uma string começa com determinado padrão.'''\n",
    "\n",
    "corresponde = re.match(r'av', texto)\n",
    "print(corresponde) # <re.Match object; span=(0, 2), match='av'>\n",
    "#print(texto[0:2] )# vai pegar caracteres de 0 a 1 excluino o 2\n",
    "\n",
    "# ----------------------------------- search() -----------------------------------\n",
    "'''\n",
    "re.search(padrao, texto) - procura o primeiro lugar onde o padrão ocorre na string.\n",
    "Usar quando: Você quer saber se e onde um padrão aparece na string (não precisa ser no início).\n",
    "'''\n",
    "\n",
    "procuar = re.search(padrao, texto)\n",
    "print(procuar) \n",
    "# texto[2:6] # lino\n",
    "\n",
    "#obs: A diferença entre o match e o search é que o match só procura no início da string, já o serach pode ser em qualquer lugar\n",
    "\n",
    "# ----------------------------------- finditer() -----------------------------------\n",
    "'''\n",
    "re.finditer(padrao, texto) - Como findall, mas retorna um iterador com objetos Match, permitindo acessar posição e valor de cada ocorrência.\n",
    "Usar quando: Você precisa dos detalhes (posição, grupos, etc.) de cada ocorrência.\n",
    "'''\n",
    "\n",
    "check_finditer = re.finditer(padrao, texto)\n",
    "print((check_finditer))\n",
    "\n",
    "corespond = check_finditer\n",
    "for check_correspondeincas in corespond:\n",
    "    print(check_correspondeincas)"
   ]
  },
  {
   "cell_type": "code",
   "execution_count": 44,
   "id": "40fc375d",
   "metadata": {},
   "outputs": [
    {
     "name": "stdout",
     "output_type": "stream",
     "text": [
      "<re.Match object; span=(20, 21), match='1'>\n",
      "<re.Match object; span=(21, 22), match='0'>\n",
      "<re.Match object; span=(22, 23), match='0'>\n",
      "<re.Match object; span=(30, 31), match='2'>\n",
      "<re.Match object; span=(31, 32), match='0'>\n",
      "<re.Match object; span=(32, 33), match='2'>\n",
      "<re.Match object; span=(33, 34), match='1'>\n"
     ]
    }
   ],
   "source": [
    "# expl2\n",
    "for m in re.finditer(r'\\d', 'Comprei uma maçã de 100kzs em 2021'):\n",
    "    print(m)"
   ]
  },
  {
   "cell_type": "markdown",
   "id": "dc60f349",
   "metadata": {},
   "source": [
    "# Estruturas\n",
    "* Depois de saber como usar cada caractere para encontrar os padrões nos textos, agora vamos usar as estruturas onde esses caracteres que aprendemos e os métodos de checagem serão aplicados."
   ]
  },
  {
   "cell_type": "markdown",
   "id": "5c7d1e1e",
   "metadata": {},
   "source": [
    "# [] charsacter set\n",
    "* usados para agrupar caracteres, ou seja, para indicar que o padrão pode ser qualquer um dos caracteres dentro do conjunto.\n"
   ]
  },
  {
   "cell_type": "code",
   "execution_count": 43,
   "id": "1a4decb5",
   "metadata": {},
   "outputs": [
    {
     "name": "stdout",
     "output_type": "stream",
     "text": [
      "['E', 'u', 'c', 'o', 'm', 'p', 'r', 'e', 'i', 'u', 'm', 'a', 'm', 'a', 'ç', 'ã', 'd', 'e', '1', '0', '0', 'k', 'z', 's', 'e', 'm', '2', '0', '2', '1']\n"
     ]
    }
   ],
   "source": [
    "# ex:\n",
    "texto = 'Eu comprei uma maçã de 100kzs em 2021'\n",
    "padrao = r'[a-zA-Z\\w]'\n",
    "check = re.findall(padrao, texto)\n",
    "print(check)"
   ]
  },
  {
   "cell_type": "code",
   "execution_count": 64,
   "id": "795e2de4",
   "metadata": {},
   "outputs": [
    {
     "name": "stdout",
     "output_type": "stream",
     "text": [
      "<re.Match object; span=(0, 14), match='Barcelona 2023'>\n"
     ]
    }
   ],
   "source": [
    "# + - Quero uma ou mais ocorrências do padrão\n",
    "# * - Quero zero ou mais ocorrências do padrão          \n",
    "# ? - Quero zero ou uma ocorrência do padrão\n",
    "# {n} - Quero exatamente n ocorrências do padrão\n",
    "# {n,} - Quero n ou mais ocorrências do padrão\n",
    "# {n,m} - Quero entre n e m ocorrências do padrão\n",
    "\n",
    "texto = 'Barcelona 2023'\n",
    "padrao = r'[a-zA-Z]+ [0-9]+'\n",
    "result = re.finditer(padrao, texto)\n",
    "# como o result retorna um iteravel, termos que percorer usando o for\n",
    "for show_iter in result:\n",
    "    print(show_iter)"
   ]
  },
  {
   "cell_type": "code",
   "execution_count": 11,
   "id": "6ba9b91e",
   "metadata": {},
   "outputs": [
    {
     "name": "stdout",
     "output_type": "stream",
     "text": [
      "['T']\n"
     ]
    }
   ],
   "source": [
    "dados = '''Teu branço era confortante\n",
    "O rato Roteu a rolha do rei da Russia\n",
    "      R$ 13.290,00\n",
    "1,349067%    \n",
    "12/02/2020\n",
    "1984-12-12-12\n",
    "/'''\n",
    "\n",
    "padrao = r\"^.\"\n",
    "r = re.findall(padrao, dados)\n",
    "print(r)"
   ]
  },
  {
   "cell_type": "markdown",
   "id": "c08b01bf",
   "metadata": {},
   "source": [
    "# Asterisco\n",
    "O asterisco ( * ) faz referência a repetições de zero ocorrências ou a tantas quanto forem possíveis do caractere associado a ele. \n",
    "Para exemplificação é utilizada a expressão regular ro*, que visa selecionar a letra “r” com nenhuma,\n",
    "uma ou quantas forem possíveis repetições da letra “o”."
   ]
  },
  {
   "cell_type": "code",
   "execution_count": 12,
   "id": "6e4b7149",
   "metadata": {},
   "outputs": [
    {
     "name": "stdout",
     "output_type": "stream",
     "text": [
      "['i', 'ia']\n"
     ]
    }
   ],
   "source": [
    "padrao = r\"ia*\" # Procura padrões iguais ou quase identicas a esse\n",
    "find = re.findall(padrao, dados)\n",
    "print(find)"
   ]
  },
  {
   "cell_type": "markdown",
   "id": "6b2f9eb8",
   "metadata": {},
   "source": [
    "# Mais\n",
    "O sinal de soma (+) funciona de forma parecida ao do asterisco (*). O diferencial é que + encontra como padrão a repetição de uma ou mais vezes. Ao empregar a expressão regular \\d+ (contra-barra, letra d e sinal de soma), no qual \\d significa basicamente qualquer caractere numérico, é possível encontrar a ocorrência de um ou mais números em sequência"
   ]
  },
  {
   "cell_type": "code",
   "execution_count": 13,
   "id": "8e5e2e5b",
   "metadata": {},
   "outputs": [
    {
     "name": "stdout",
     "output_type": "stream",
     "text": [
      "['13', '290', '00', '1', '349067', '12', '02', '2020', '1984', '12', '12', '12']\n"
     ]
    }
   ],
   "source": [
    "padrao = r'\\d+'\n",
    "f = re.findall(padrao, dados)\n",
    "print(f)"
   ]
  },
  {
   "cell_type": "markdown",
   "id": "97260e2b",
   "metadata": {},
   "source": [
    "# Interrogação\n",
    "O sinal de interrogação (?) faz referência a nenhuma ou no máximo uma ocorrência do caractere que estiver a sua esquerda. Portanto, agindo de forma parecida com + (sinal de soma), mas com o limite máximo de apenas uma ocorrência. Para exemplificar é abordada a expressão regular ,0? (vírgula, número 0 e sinal de interrogação)"
   ]
  },
  {
   "cell_type": "code",
   "execution_count": 14,
   "id": "db585561",
   "metadata": {},
   "outputs": [
    {
     "name": "stdout",
     "output_type": "stream",
     "text": [
      "[',0', ',']\n"
     ]
    }
   ],
   "source": [
    "padrao = r',0?' # Procura no maximo uma o neunhma ocorrência identica a o o numero digitado\n",
    "f = re.findall(padrao, dados)\n",
    "print(f)"
   ]
  },
  {
   "cell_type": "markdown",
   "id": "63f52bd2",
   "metadata": {},
   "source": [
    "# Chaves\n",
    "\n",
    "O par de chaves realiza a identificação de caracteres que se repetem por um número definido de vezes. Estes limites são definidos dentro das chaves pelas letras m, que é o limite inferior, e n, que é o limite superior. Ficando desta maneira {m,n} a estrutura da expressão regular . Para lição, é utilizada a expressão \\d{4,5}, no qual tem como objetivo encontrar números que se repetem de 4 a 5 vezes. "
   ]
  },
  {
   "cell_type": "code",
   "execution_count": 15,
   "id": "89a4fc41",
   "metadata": {},
   "outputs": [
    {
     "name": "stdout",
     "output_type": "stream",
     "text": [
      "['34906', '2020', '1984']\n"
     ]
    }
   ],
   "source": [
    "padrao = r'\\d{4,5}' # Quero valores de 4 ou 5 dígitos\n",
    "find = re.findall(padrao, dados)\n",
    "print(find)"
   ]
  },
  {
   "cell_type": "markdown",
   "id": "c83ae545",
   "metadata": {},
   "source": [
    "# Colchetes\n",
    "O par de colchetes ([ ]) são utilizados para definir uma lista de caracteres para serem selecionados como padrão. Desse modo, ao colocar as letras “a” e “b”, por exemplo, dentro dos colchetes [ab], o padrão selecionado será “a”, “b”, “ab” ou “ba”."
   ]
  },
  {
   "cell_type": "code",
   "execution_count": 16,
   "id": "e45f4aec",
   "metadata": {},
   "outputs": [
    {
     "data": {
      "text/plain": [
       "['b', 'a', 'a', 'a', 'a', 'a', 'a', 'a', 'a']"
      ]
     },
     "execution_count": 16,
     "metadata": {},
     "output_type": "execute_result"
    }
   ],
   "source": [
    "padrao = r'[ab]' # procrurando uma lista de letras lavras entre a e b\n",
    "find = re.findall(padrao, dados)\n",
    "find"
   ]
  },
  {
   "cell_type": "code",
   "execution_count": 17,
   "id": "103342e7",
   "metadata": {},
   "outputs": [
    {
     "data": {
      "text/plain": [
       "['T',\n",
       " 'e',\n",
       " 'u',\n",
       " ' ',\n",
       " 'r',\n",
       " 'n',\n",
       " 'ç',\n",
       " 'o',\n",
       " ' ',\n",
       " 'e',\n",
       " 'r',\n",
       " ' ',\n",
       " 'c',\n",
       " 'o',\n",
       " 'n',\n",
       " 'f',\n",
       " 'o',\n",
       " 'r',\n",
       " 't',\n",
       " 'n',\n",
       " 't',\n",
       " 'e',\n",
       " '\\n',\n",
       " 'O',\n",
       " ' ',\n",
       " 'r',\n",
       " 't',\n",
       " 'o',\n",
       " ' ',\n",
       " 'R',\n",
       " 'o',\n",
       " 't',\n",
       " 'e',\n",
       " 'u',\n",
       " ' ',\n",
       " ' ',\n",
       " 'r',\n",
       " 'o',\n",
       " 'l',\n",
       " 'h',\n",
       " ' ',\n",
       " 'd',\n",
       " 'o',\n",
       " ' ',\n",
       " 'r',\n",
       " 'e',\n",
       " 'i',\n",
       " ' ',\n",
       " 'd',\n",
       " ' ',\n",
       " 'R',\n",
       " 'u',\n",
       " 's',\n",
       " 's',\n",
       " 'i',\n",
       " '\\n',\n",
       " ' ',\n",
       " ' ',\n",
       " ' ',\n",
       " ' ',\n",
       " ' ',\n",
       " ' ',\n",
       " 'R',\n",
       " '$',\n",
       " ' ',\n",
       " '1',\n",
       " '3',\n",
       " '.',\n",
       " '2',\n",
       " '9',\n",
       " '0',\n",
       " ',',\n",
       " '0',\n",
       " '0',\n",
       " '\\n',\n",
       " '1',\n",
       " ',',\n",
       " '3',\n",
       " '4',\n",
       " '9',\n",
       " '0',\n",
       " '6',\n",
       " '7',\n",
       " '%',\n",
       " ' ',\n",
       " ' ',\n",
       " ' ',\n",
       " ' ',\n",
       " '\\n',\n",
       " '1',\n",
       " '2',\n",
       " '/',\n",
       " '0',\n",
       " '2',\n",
       " '/',\n",
       " '2',\n",
       " '0',\n",
       " '2',\n",
       " '0',\n",
       " '\\n',\n",
       " '1',\n",
       " '9',\n",
       " '8',\n",
       " '4',\n",
       " '-',\n",
       " '1',\n",
       " '2',\n",
       " '-',\n",
       " '1',\n",
       " '2',\n",
       " '-',\n",
       " '1',\n",
       " '2',\n",
       " '\\n',\n",
       " '/']"
      ]
     },
     "execution_count": 17,
     "metadata": {},
     "output_type": "execute_result"
    }
   ],
   "source": [
    "padrao = r'[^ab]' # procrurando uma lista de letras lavras entre diferentes de a e b\n",
    "find = re.findall(padrao, dados)\n",
    "find"
   ]
  },
  {
   "cell_type": "markdown",
   "id": "8ccac248",
   "metadata": {},
   "source": [
    "# Exercício"
   ]
  },
  {
   "cell_type": "code",
   "execution_count": 18,
   "id": "8ae4493b",
   "metadata": {},
   "outputs": [
    {
     "data": {
      "text/plain": [
       "[('203.0.113.10', '17/Apr/2025:01:17:15 +0000', 'DELETE /login HTTP/1.1')]"
      ]
     },
     "execution_count": 18,
     "metadata": {},
     "output_type": "execute_result"
    }
   ],
   "source": [
    "dados = '203.0.113.10 - - [17/Apr/2025:01:17:15 +0000] \"DELETE /login HTTP/1.1\" 301 1391'\n",
    "padrao = r'(\\d+\\.\\d+\\.\\d+\\.\\d+) - - \\[(.*)\\] \"(.*)\" \\d+ \\d+'\n",
    "find = re.findall(padrao, dados)\n",
    "find"
   ]
  },
  {
   "cell_type": "code",
   "execution_count": 19,
   "id": "b4b96032",
   "metadata": {},
   "outputs": [
    {
     "name": "stdout",
     "output_type": "stream",
     "text": [
      "['Teu branço era confortante', 'O rato Roteu a rolha do rei da Russia', '      R$ 13.290,00', '1,349067%', '12/02/2020', '1984-12-12-12', '/']\n",
      "\n",
      "Texto1: Teu branço era confortante\n",
      "Texto2: O rato Roteu a rolha do rei da Russia\n",
      "Texto3:       R$ 13.290,00\n",
      "Texto4: 1,349067%\n",
      "Texto5: 12/02/2020\n",
      "Texto6: 1984-12-12-12\n",
      "Texto7: /\n"
     ]
    }
   ],
   "source": [
    "dados = '''\n",
    "Teu branço era confortante\n",
    "O rato Roteu a rolha do rei da Russia\n",
    "      R$ 13.290,00\n",
    "1,349067%    \n",
    "12/02/2020\n",
    "1984-12-12-12\n",
    "/'''\n",
    "padrao = r'(.*\\S)'\n",
    "find = re.findall(padrao, dados)\n",
    "print(find)\n",
    "print()\n",
    "i = 1\n",
    "for textos in find:\n",
    "    print(f'Texto{i}: {textos}')\n",
    "    i+=1"
   ]
  },
  {
   "cell_type": "code",
   "execution_count": 20,
   "id": "b719d148",
   "metadata": {},
   "outputs": [
    {
     "name": "stdout",
     "output_type": "stream",
     "text": [
      "['Jeovani', 'está', 'aprendendo', 'Python', 'com', 'expressões', 'regulares.']\n",
      "\n",
      "Texto1: Jeovani\n",
      "Texto2: está\n",
      "Texto3: aprendendo\n",
      "Texto4: Python\n",
      "Texto5: com\n",
      "Texto6: expressões\n",
      "Texto7: regulares.\n"
     ]
    }
   ],
   "source": [
    "dados = '''Jeovani está aprendendo Python com expressões regulares.'''\n",
    "padrao = r'(\\w*\\S)'\n",
    "find = re.findall(padrao, dados)\n",
    "print(find)\n",
    "print()\n",
    "i = 1\n",
    "for textos in find:\n",
    "    print(f'Texto{i}: {textos}')\n",
    "    i+=1"
   ]
  }
 ],
 "metadata": {
  "kernelspec": {
   "display_name": "Python 3",
   "language": "python",
   "name": "python3"
  },
  "language_info": {
   "codemirror_mode": {
    "name": "ipython",
    "version": 3
   },
   "file_extension": ".py",
   "mimetype": "text/x-python",
   "name": "python",
   "nbconvert_exporter": "python",
   "pygments_lexer": "ipython3",
   "version": "3.13.2"
  }
 },
 "nbformat": 4,
 "nbformat_minor": 5
}
